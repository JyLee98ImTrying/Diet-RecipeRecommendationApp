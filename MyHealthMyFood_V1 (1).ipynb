{
  "nbformat": 4,
  "nbformat_minor": 0,
  "metadata": {
    "colab": {
      "provenance": []
    },
    "kernelspec": {
      "name": "python3",
      "display_name": "Python 3"
    },
    "language_info": {
      "name": "python"
    }
  },
  "cells": [
    {
      "cell_type": "markdown",
      "source": [
        "#IPython Notebook for MyHealthMyFood\n",
        "\n",
        "Includes Data Cleaning, EDA, Model Training"
      ],
      "metadata": {
        "id": "LwD5NrrPws8G"
      }
    },
    {
      "cell_type": "markdown",
      "source": [
        "## Data Ingestion\n",
        "\n",
        "Ingest the recipe data obtained from Food.com into dataframe for next steps"
      ],
      "metadata": {
        "id": "iTjU1onrvBiP"
      }
    },
    {
      "cell_type": "code",
      "execution_count": 1,
      "metadata": {
        "id": "Z3qxq_YGu7mf"
      },
      "outputs": [],
      "source": [
        "#Import necessary libraries\n",
        "import pandas as pd\n",
        "import numpy as np\n",
        "import matplotlib.pyplot as plt\n",
        "import seaborn as sns\n",
        "from collections import Counter\n",
        "import re\n",
        "import ast"
      ]
    },
    {
      "cell_type": "code",
      "source": [
        "# Data Ingestion: mount google drive and create a df from a csv file\n",
        "from google.colab import drive\n",
        "drive.mount('/content/drive')\n",
        "\n",
        "df = pd.read_csv('/content/drive/My Drive/Recipe.csv')"
      ],
      "metadata": {
        "colab": {
          "base_uri": "https://localhost:8080/"
        },
        "id": "MnLgqLp3vJSm",
        "outputId": "77870e18-737a-472d-b652-58c0c9dd0621"
      },
      "execution_count": 68,
      "outputs": [
        {
          "output_type": "stream",
          "name": "stdout",
          "text": [
            "Drive already mounted at /content/drive; to attempt to forcibly remount, call drive.mount(\"/content/drive\", force_remount=True).\n"
          ]
        },
        {
          "output_type": "stream",
          "name": "stderr",
          "text": [
            "<ipython-input-68-be2b6e7efcba>:5: DtypeWarning: Columns (0,2,14,15,16,17,18,19,20,21,22,23,24,25) have mixed types. Specify dtype option on import or set low_memory=False.\n",
            "  df = pd.read_csv('/content/drive/My Drive/Recipe.csv')\n"
          ]
        }
      ]
    },
    {
      "cell_type": "code",
      "source": [
        "df.columns\n"
      ],
      "metadata": {
        "colab": {
          "base_uri": "https://localhost:8080/"
        },
        "id": "Cf14B5kgomha",
        "outputId": "f85f8ddd-3f5d-4914-8de8-526ca200deb4"
      },
      "execution_count": 69,
      "outputs": [
        {
          "output_type": "execute_result",
          "data": {
            "text/plain": [
              "Index(['RecipeId', 'Name', 'AuthorId', 'AuthorName', 'CookTime', 'PrepTime',\n",
              "       'TotalTime', 'DatePublished', 'Description', 'Images', 'RecipeCategory',\n",
              "       'Keywords', 'RecipeIngredientQuantities', 'RecipeIngredientParts',\n",
              "       'AggregatedRating', 'ReviewCount', 'Calories', 'FatContent',\n",
              "       'SaturatedFatContent', 'CholesterolContent', 'SodiumContent',\n",
              "       'CarbohydrateContent', 'FiberContent', 'SugarContent', 'ProteinContent',\n",
              "       'RecipeServings', 'RecipeYield', 'RecipeInstructions'],\n",
              "      dtype='object')"
            ]
          },
          "metadata": {},
          "execution_count": 69
        }
      ]
    },
    {
      "cell_type": "markdown",
      "source": [
        "## Data Cleaning"
      ],
      "metadata": {
        "id": "gYL7v96-xViS"
      }
    },
    {
      "cell_type": "code",
      "source": [
        "# Basic data cleaning\n",
        "# 1. Drop duplicates\n",
        "df = df.drop_duplicates()\n",
        "\n",
        "# 2. Handle missing values\n",
        "df = df.fillna({\n",
        "    col: df[col].median() if df[col].dtype in ['int64', 'float64'] else df[col].mode()[0]\n",
        "    for col in df.columns\n",
        "})"
      ],
      "metadata": {
        "id": "1dzkIfv0vPS-"
      },
      "execution_count": 70,
      "outputs": []
    },
    {
      "cell_type": "code",
      "source": [
        "# 3.filling missing values\n",
        "df['RecipeIngredientQuantities'] = df['RecipeIngredientQuantities'].fillna('0')\n",
        "df['RecipeIngredientParts'] = df['RecipeIngredientParts'].fillna('unknown ingredient')\n",
        "\n",
        "# Filling numerical features with 0\n",
        "df['AggregatedRating'] = df['AggregatedRating'].fillna(0)\n",
        "df['ReviewCount'] = df['ReviewCount'].fillna(0)"
      ],
      "metadata": {
        "id": "K2E6HuHdzJZY"
      },
      "execution_count": 71,
      "outputs": []
    },
    {
      "cell_type": "markdown",
      "source": [
        "# Feature Engineering for EDA\n",
        "Conduct Feature engineering to select the required data for EDA"
      ],
      "metadata": {
        "id": "DxULZXKtvWfT"
      }
    },
    {
      "cell_type": "code",
      "source": [
        "#Feature Engineering for EDA\n",
        "\n",
        "df_DR = df.drop(['RecipeId', 'AuthorId', 'CookTime', 'PrepTime', 'DatePublished', 'Description', 'Keywords', 'ReviewCount'], axis=1)\n"
      ],
      "metadata": {
        "id": "RXzmCYZ5vTpt"
      },
      "execution_count": 72,
      "outputs": []
    },
    {
      "cell_type": "code",
      "source": [
        "# List of columns to divide by RecipeServings\n",
        "columns_to_adjust = [\n",
        "    \"FatContent\", \"SaturatedFatContent\", \"CholesterolContent\",\n",
        "    \"SodiumContent\", \"CarbohydrateContent\", \"FiberContent\", \"SugarContent\", \"ProteinContent\"\n",
        "]\n",
        "\n",
        "# Convert columns to numeric, coerce errors to handle any non-numeric entries\n",
        "for column in columns_to_adjust + [\"RecipeServings\"]:\n",
        "    df_DR[column] = pd.to_numeric(df_DR[column], errors='coerce')\n",
        "\n",
        "# Divide each column by RecipeServings, starting from the second row (index 1)\n",
        "for column in columns_to_adjust:\n",
        "    df_DR.loc[1:, column] = df_DR.loc[1:, column] / df_DR.loc[1:, \"RecipeServings\"]\n",
        "\n",
        "# Drop the RecipeServings column if no longer needed\n",
        "df_DR.drop(columns=[\"RecipeServings\"], inplace=True)"
      ],
      "metadata": {
        "id": "vT1s0aLEYVt2"
      },
      "execution_count": 73,
      "outputs": []
    },
    {
      "cell_type": "code",
      "source": [
        "df_DR = df_DR.drop(['AuthorName', 'Images', 'AggregatedRating'], axis=1)\n"
      ],
      "metadata": {
        "id": "FWS9LS4Dmq68"
      },
      "execution_count": 74,
      "outputs": []
    },
    {
      "cell_type": "code",
      "source": [
        "# Function to convert PT format to decimal hours\n",
        "def convert_to_decimal_hours(time_str):\n",
        "    match = re.match(r'PT(?:(\\d+)H)?(?:(\\d+)M)?', time_str)\n",
        "    if match:\n",
        "        hours = int(match.group(1)) if match.group(1) else 0\n",
        "        minutes = int(match.group(2)) if match.group(2) else 0\n",
        "        decimal_hours = hours + minutes / 60\n",
        "        return round(decimal_hours, 2)  # Rounded to two decimal places\n",
        "    return None\n",
        "\n",
        "# Apply the conversion function to the TotalTime column\n",
        "df_DR['TotalTime'] = df_DR['TotalTime'].apply(convert_to_decimal_hours)"
      ],
      "metadata": {
        "id": "KZoWLkSanwkN"
      },
      "execution_count": 75,
      "outputs": []
    },
    {
      "cell_type": "code",
      "source": [
        "# Remove rows where 'TotalTime' is greater than 400 minutes.\n",
        "df_DR = df_DR[df_DR['TotalTime'] <= 180]"
      ],
      "metadata": {
        "id": "naq0TSroCIYK"
      },
      "execution_count": 76,
      "outputs": []
    },
    {
      "cell_type": "code",
      "source": [
        "# Columns to check for outliers\n",
        "columns_to_check = ['Calories', 'FatContent', 'SaturatedFatContent', 'CholesterolContent',\n",
        "                    'SodiumContent', 'CarbohydrateContent', 'FiberContent', 'SugarContent',\n",
        "                    'ProteinContent']\n",
        "\n",
        "# Ensure columns are numeric, coerce errors to handle any non-numeric entries\n",
        "for column in columns_to_check:\n",
        "    df_DR[column] = pd.to_numeric(df_DR[column], errors='coerce')\n",
        "\n",
        "# Calculate IQR and filter outliers, skipping the first row\n",
        "for column in columns_to_check:\n",
        "    Q1 = df_DR.loc[1:, column].quantile(0.25)\n",
        "    Q3 = df_DR.loc[1:, column].quantile(0.75)\n",
        "    IQR = Q3 - Q1\n",
        "\n",
        "    # Define bounds for outlier detection\n",
        "    lower_bound = Q1 - 1.5 * IQR\n",
        "    upper_bound = Q3 + 1.5 * IQR\n",
        "\n",
        "    # Filter out rows with outliers in the specified column, ignoring the first row\n",
        "    df_DR = df_DR[(df_DR.index == 0) | ((df_DR[column] >= lower_bound) & (df_DR[column] <= upper_bound))]"
      ],
      "metadata": {
        "id": "MHwsMv6Kquwh"
      },
      "execution_count": 77,
      "outputs": []
    },
    {
      "cell_type": "markdown",
      "source": [
        "## EDA"
      ],
      "metadata": {
        "id": "4RxURn7KwF8Y"
      }
    },
    {
      "cell_type": "code",
      "source": [
        "#1. Top Ingredients present in recipe data\n",
        "# Initialize an empty Counter object\n",
        "ingredient_counter = Counter()\n",
        "\n",
        "# Function to clean and extract ingredients\n",
        "def extract_ingredients(ingredient_str):\n",
        "    # Remove the 'c(' and ')' characters and split by commas\n",
        "    ingredient_str = re.sub(r'c\\(|\\)', '', ingredient_str)\n",
        "    # Split the string by commas to get individual ingredients\n",
        "    ingredients = [ingredient.strip() for ingredient in ingredient_str.split(',')]\n",
        "    return ingredients\n",
        "\n",
        "# Iterate over each row in the 'RecipeIngredientParts' column\n",
        "for ingredients in df['RecipeIngredientParts']:\n",
        "    # Extract and clean ingredients\n",
        "    ingredient_list = extract_ingredients(ingredients)\n",
        "\n",
        "    # Update the counter with the ingredients in this row\n",
        "    ingredient_counter.update(ingredient_list)\n",
        "\n",
        "# Convert the counter object to a DataFrame for better readability\n",
        "ingredient_frequency_df = pd.DataFrame(ingredient_counter.items(), columns=['Ingredient', 'Frequency'])\n",
        "\n",
        "# Sort the DataFrame by frequency in descending order\n",
        "ingredient_frequency_df = ingredient_frequency_df.sort_values(by='Frequency', ascending=False)\n",
        "\n",
        "# Display the top 10 most frequent ingredients\n",
        "print(ingredient_frequency_df.head(10))\n",
        "\n",
        "# Plotting the top 10 most common ingredients\n",
        "plt.figure(figsize=(12, 8))\n",
        "sns.barplot(x='Frequency', y='Ingredient', data=ingredient_frequency_df.head(10))\n",
        "plt.title('Top 10 Most Common Ingredients')\n",
        "plt.xlabel('Frequency')\n",
        "plt.ylabel('Ingredient')\n",
        "plt.show()"
      ],
      "metadata": {
        "colab": {
          "base_uri": "https://localhost:8080/",
          "height": 690
        },
        "id": "TCy5IwDTwH7n",
        "outputId": "0bb6d2a1-9ee2-4c56-ec6e-e0a63eb0794c"
      },
      "execution_count": 78,
      "outputs": [
        {
          "output_type": "stream",
          "name": "stdout",
          "text": [
            "         Ingredient  Frequency\n",
            "20           \"salt\"     199780\n",
            "53         \"butter\"     136079\n",
            "29          \"sugar\"     115852\n",
            "22          \"onion\"      87546\n",
            "56          \"water\"      84376\n",
            "28           \"eggs\"      81186\n",
            "41      \"olive oil\"      76724\n",
            "61          \"flour\"      62410\n",
            "5            \"milk\"      61247\n",
            "45  \"garlic cloves\"      59604\n"
          ]
        },
        {
          "output_type": "display_data",
          "data": {
            "text/plain": [
              "<Figure size 1200x800 with 1 Axes>"
            ],
            "image/png": "[encoded data removed]"
          },
          "metadata": {}
        }
      ]
    },
    {
      "cell_type": "code",
      "source": [
        "# Data Reduction for RecipeCategory\n",
        "unique_categories = df_DR['RecipeCategory'].unique()\n",
        "print(unique_categories)"
      ],
      "metadata": {
        "colab": {
          "base_uri": "https://localhost:8080/"
        },
        "collapsed": true,
        "id": "JAW_T9KNxX9y",
        "outputId": "a588166b-ea59-457a-e631-97fa2412ad7a"
      },
      "execution_count": 79,
      "outputs": [
        {
          "output_type": "stream",
          "name": "stdout",
          "text": [
            "['Frozen Desserts' 'Vegetable' 'Pie' 'Dessert' 'Beverages' 'Sauces' 'Stew'\n",
            " 'Weeknight' 'Whole Chicken' 'Cheesecake' 'Free Of...' 'Brazilian'\n",
            " 'Breads' 'Bar Cookie' 'Brown Rice' 'Oranges' 'Low Protein'\n",
            " 'Chicken Breast' 'Potato' 'Very Low Carbs' 'Chicken' 'Scones'\n",
            " 'Drop Cookies' 'Beans' 'Punch Beverage' 'Yeast Breads' 'Lunch/Snacks'\n",
            " 'Pineapple' 'Chicken Livers' '< 60 Mins' '< 30 Mins' 'Savory Pies'\n",
            " 'Poultry' 'Quick Breads' 'Healthy' 'Pork' 'Apple' 'Cheese' 'Crab'\n",
            " 'Soy/Tofu' 'Cauliflower' 'White Rice' 'Chowders' 'German' 'European'\n",
            " 'Breakfast' 'Meat' 'Manicotti' 'Onions' 'New Zealand'\n",
            " 'Chicken Thigh & Leg' 'Indonesian' 'Greek' 'Corn' 'Smoothies'\n",
            " 'Long Grain Rice' 'Dutch' 'Gelatin' 'Lamb/Sheep' 'Fruit' 'Berries'\n",
            " 'Peppers' 'Candy' 'Spanish' 'Low Cholesterol' 'Shakes' 'Lentil'\n",
            " 'Short Grain Rice' 'One Dish Meal' 'Spicy' '< 15 Mins' 'Mexican' 'Thai'\n",
            " 'Cajun' 'Sourdough Breads' 'Salad Dressings' 'Oven' 'Rice' 'Microwave'\n",
            " 'Asian' 'Tuna' 'Jellies' 'Beef Organ Meats' 'Swiss' 'Papaya' 'Lobster'\n",
            " 'Spaghetti' 'No Cook' 'Broil/Grill' 'Roast' 'Raspberries' 'Potluck'\n",
            " 'Orange Roughy' 'Melons' 'Canadian' 'High Protein' 'Veal' 'Caribbean'\n",
            " 'Mussels' 'Spreads' 'Halibut' 'High In...' 'Easy' 'Elk' 'Colombian'\n",
            " 'Gumbo' 'Roast Beef' 'Black Beans' 'Pears' 'Rabbit' 'Turkish'\n",
            " 'Kid Friendly' 'Vegan' 'Christmas' 'For Large Groups' 'Crawfish'\n",
            " 'Russian' 'Native American' 'Meatloaf' 'Winter' 'Tex Mex'\n",
            " 'Yam/Sweet Potato' 'Clear Soup' 'Whole Turkey' 'Stocks' 'Steak'\n",
            " '< 4 Hours' 'Penne' 'Greens' 'Catfish' 'Dehydrator' 'Duck Breasts'\n",
            " 'Coconut' 'Chutneys' 'Chinese' 'Savory' 'Curries' 'Trout' 'Vietnamese'\n",
            " 'Stir Fry' 'Japanese' 'Polish' 'Wild Game' 'Hungarian' 'Grains' 'Quail'\n",
            " 'Refrigerator' 'Pressure Cooker' 'Southwestern U.S.' 'Pasta Shells'\n",
            " 'Strawberry' 'Lebanese' 'Moroccan' 'Summer' 'Tarts' 'Medium Grain Rice'\n",
            " 'Spinach' 'Southwest Asia (middle East)' 'Ham' 'African'\n",
            " 'Homeopathy/Remedies' 'Moose' 'Deer' 'Citrus' 'High Fiber' 'Bass'\n",
            " 'Kosher' 'Norwegian' 'Ethiopian' 'Collard Greens' 'Thanksgiving'\n",
            " 'Bath/Beauty' 'Creole' 'Swedish' 'Squid' 'Scandinavian' 'Plums'\n",
            " 'Austrian' 'Household Cleaner' 'Pennsylvania Dutch' 'Lactose Free'\n",
            " 'Perch' 'Bear' 'Mahi Mahi' 'Australian' 'Scottish' 'Korean' 'Spring'\n",
            " 'Hawaiian' 'Tempeh' 'Szechuan' 'Portuguese' 'Summer Dip' 'Sweet' 'Nuts'\n",
            " 'Filipino' 'Camping' 'Turkey Breasts' 'Pot Pie' 'Whole Duck' 'Mango'\n",
            " 'Tropical Fruits' 'Cherries' 'Lime' 'Lemon' 'Brunch' 'Toddler Friendly'\n",
            " 'Meatballs' 'Duck' 'No Shell Fish' 'Whitefish' 'Tilapia' 'South American'\n",
            " 'Octopus' 'Chard' 'Mixer' 'Halloween' 'Costa Rican' 'Malaysian' 'Danish'\n",
            " 'Deep Fried' 'Stove Top' 'Bread Machine' 'Beginner Cook' 'Cuban'\n",
            " 'Small Appliance' 'Egg Free' 'Nigerian' 'Nepalese' \"St. Patrick's Day\"\n",
            " 'Iraqi' 'Pakistani' 'Welsh' 'South African' 'Chocolate Chip Cookies'\n",
            " 'Goose' 'Finnish' 'Belgian' 'Chilean' 'Polynesian' 'Puerto Rican'\n",
            " 'Palestinian' 'Icelandic' 'Venezuelan' 'Cantonese' 'Peanut Butter'\n",
            " 'Egyptian' 'Kiwifruit' 'Inexpensive' 'Hanukkah' 'Honduran' 'Sudanese'\n",
            " 'Pheasant' 'Ham And Bean Soup' 'Cambodian' 'Bread Pudding' 'Peruvian'\n",
            " 'Bean Soup' 'Czech' 'Georgian' 'Spaghetti Sauce' 'Freezer' 'Lemon Cake'\n",
            " 'Black Bean Soup' 'Hunan' 'Snacks Sweet' 'Pot Roast' 'Turkey Gravy'\n",
            " 'Broccoli Soup' 'Apple Pie' 'Soups Crock Pot' 'Key Lime Pie'\n",
            " 'Wheat Bread' 'Mushroom Soup' 'Ecuadorean' 'Grapes' 'Macaroni And Cheese'\n",
            " 'Mashed Potatoes' 'Artichoke' 'Desserts Fruit' 'Birthday' 'Ice Cream'\n",
            " 'Avocado' 'From Scratch' 'Oatmeal' 'Pumpkin' 'Indian' 'Baking'\n",
            " 'Beef Liver' 'Somalian' 'Memorial Day' 'Coconut Cream Pie' 'Canning'\n",
            " 'Steam' 'Mongolian']\n"
          ]
        }
      ]
    },
    {
      "cell_type": "code",
      "source": [
        "# Define the categories to keep\n",
        "categories_to_keep = ['Breakfast', 'Brunch', 'Lunch/Snacks', 'Dessert']\n",
        "\n",
        "# Filter out the rows with the specified categories or assign the remaining categories randomly\n",
        "df_DR['RecipeCategory'] = df_DR['RecipeCategory'].apply(\n",
        "    lambda x: x if x in categories_to_keep else np.random.choice(['Lunch/Snacks', 'Dinner'])\n",
        ")\n",
        "\n",
        "# 2. Remove outlier entries\n",
        "# Define a list of common patterns to identify erroneous entries (e.g., URLs, image paths)\n",
        "outlier_patterns = ['http', 'q_95', 'c_fit', 'food/image', 'img/recipes']\n",
        "# Filter rows where RecipeCategory does not contain any outlier pattern\n",
        "df_DR = df_DR[~df_DR['RecipeCategory'].str.contains('|'.join(outlier_patterns), case=False, na=False)]\n",
        "\n",
        "# View the cleaned DataFrame\n",
        "print(df_DR['RecipeCategory'].unique())  # Check unique categories after cleaning\n",
        "print(df_DR.shape)  # Check the shape to confirm rows were removed"
      ],
      "metadata": {
        "colab": {
          "base_uri": "https://localhost:8080/"
        },
        "id": "0WDDgOxoygQz",
        "outputId": "4a6def73-9428-415a-9393-7d80f22afdc2"
      },
      "execution_count": 80,
      "outputs": [
        {
          "output_type": "stream",
          "name": "stdout",
          "text": [
            "['Dinner' 'Lunch/Snacks' 'Dessert' 'Breakfast' 'Brunch']\n",
            "(274623, 16)\n"
          ]
        }
      ]
    },
    {
      "cell_type": "code",
      "source": [
        "#Distribution of Recipe Categories\n",
        "\n",
        "# Count the number of recipes per category\n",
        "category_counts = df_DR['RecipeCategory'].value_counts().head(10)\n",
        "\n",
        "\n",
        "# Plotting\n",
        "plt.figure(figsize=(12, 6))\n",
        "sns.barplot(x=category_counts.index, y=category_counts.values, palette='viridis')\n",
        "plt.xticks(rotation=90)\n",
        "plt.title('Distribution of Recipe Categories')\n",
        "plt.xlabel('Recipe Category')\n",
        "plt.ylabel('Number of Recipes')\n",
        "plt.show()"
      ],
      "metadata": {
        "colab": {
          "base_uri": "https://localhost:8080/",
          "height": 571
        },
        "id": "Ei61UraYwUeP",
        "outputId": "9b24e569-c0e6-4ff3-9132-066183aadf0c"
      },
      "execution_count": 81,
      "outputs": [
        {
          "output_type": "stream",
          "name": "stderr",
          "text": [
            "<ipython-input-81-ae376a7c65e5>:9: FutureWarning: \n",
            "\n",
            "Passing `palette` without assigning `hue` is deprecated and will be removed in v0.14.0. Assign the `x` variable to `hue` and set `legend=False` for the same effect.\n",
            "\n",
            "  sns.barplot(x=category_counts.index, y=category_counts.values, palette='viridis')\n"
          ]
        },
        {
          "output_type": "display_data",
          "data": {
            "text/plain": [
              "<Figure size 1200x600 with 1 Axes>"
            ],
            "image/png": "[encoded data removed]"
          },
          "metadata": {}
        }
      ]
    },
    {
      "cell_type": "code",
      "source": [
        "#Correlation Plot\n",
        "\n",
        "# Define the list of nutritional columns, e.g., calories, protein, fat, etc.\n",
        "nutritional_columns = ['Calories', 'ProteinContent', 'FatContent', 'CarbohydrateContent', 'SodiumContent', 'CholesterolContent', 'SaturatedFatContent']\n",
        "\n",
        "# Filter out non-numeric columns, keeping only the numeric ones\n",
        "df_nutritional = df_DR[nutritional_columns].apply(pd.to_numeric, errors='coerce')\n",
        "\n",
        "# Drop any rows with NaN values that result from non-numeric entries\n",
        "df_nutritional = df_nutritional.dropna()\n",
        "\n",
        "# Compute the correlation matrix\n",
        "corr_matrix = df_nutritional.corr()\n",
        "\n",
        "# Plotting the heatmap\n",
        "plt.figure(figsize=(10, 8))\n",
        "sns.heatmap(corr_matrix, annot=True, cmap='coolwarm', fmt='.2f')\n",
        "plt.title('Correlation Matrix of Nutritional Values')\n",
        "plt.show()"
      ],
      "metadata": {
        "colab": {
          "base_uri": "https://localhost:8080/",
          "height": 775
        },
        "id": "sp1lM3oCzMiY",
        "outputId": "30504fbe-c167-474b-bb13-475b6d5d7af0"
      },
      "execution_count": null,
      "outputs": [
        {
          "output_type": "display_data",
          "data": {
            "text/plain": [
              "<Figure size 1000x800 with 2 Axes>"
            ],
            "image/png": "[encoded data removed]"
          },
          "metadata": {}
        }
      ]
    },
    {
      "cell_type": "markdown",
      "source": [
        "## Feature Selection & Train Test Split"
      ],
      "metadata": {
        "id": "XPHbgnKO1UlD"
      }
    },
    {
      "cell_type": "code",
      "source": [
        "#Loan required packages\n",
        "from sklearn.cluster import KMeans\n",
        "from sklearn.ensemble import RandomForestClassifier\n",
        "from sklearn.preprocessing import StandardScaler\n",
        "from sklearn.model_selection import train_test_split\n",
        "from sklearn.metrics import accuracy_score\n",
        "from sklearn.metrics.pairwise import cosine_similarity\n",
        "import pickle\n",
        "import joblib"
      ],
      "metadata": {
        "id": "NnCNuo9q1TuX"
      },
      "execution_count": 82,
      "outputs": []
    },
    {
      "cell_type": "code",
      "source": [
        "#Step 1: Data Massaging\n",
        "# Select relevant nutrient features\n",
        "nutrient_features = ['Calories', 'ProteinContent', 'FatContent', 'CarbohydrateContent', 'SodiumContent', 'CholesterolContent', 'SaturatedFatContent','FiberContent', 'SugarContent']\n",
        "\n",
        "# Convert nutrient features to numeric\n",
        "df_DR[nutrient_features] = df_DR[nutrient_features].apply(pd.to_numeric, errors='coerce')\n",
        "\n",
        "# Fill missing values in nutrient features with the mean\n",
        "df_DR[nutrient_features] = df_DR[nutrient_features].fillna(df_DR[nutrient_features].mean())\n",
        "\n",
        "# Step 1: Normalize nutrient data\n",
        "scaler = StandardScaler()\n",
        "df_norm = pd.DataFrame(scaler.fit_transform(df_DR[nutrient_features]), columns=nutrient_features)"
      ],
      "metadata": {
        "id": "WarJ4om01eCG"
      },
      "execution_count": 83,
      "outputs": []
    },
    {
      "cell_type": "code",
      "source": [
        "# Step 2: Apply K-means clustering\n",
        "# Store the sum of squared distances for each number of clusters\n",
        "inertia = []\n",
        "K = range(1, 11)  # Testing k from 1 to 10\n",
        "\n",
        "# Fit KMeans for each number of clusters and calculate inertia\n",
        "for k in K:\n",
        "    kmeans = KMeans(n_clusters=k, random_state=42)\n",
        "    kmeans.fit(df_norm)\n",
        "    inertia.append(kmeans.inertia_)\n",
        "\n",
        "# Plot the Elbow Curve\n",
        "plt.figure(figsize=(8, 5))\n",
        "plt.plot(K, inertia, marker='o')\n",
        "plt.xlabel('Number of clusters (k)')\n",
        "plt.ylabel('Inertia')\n",
        "plt.title('Elbow Method to Determine Optimal k')\n",
        "plt.show()"
      ],
      "metadata": {
        "id": "KfT8Jk3n1kOu",
        "colab": {
          "base_uri": "https://localhost:8080/",
          "height": 487
        },
        "outputId": "15f12b4f-7376-4e3a-bedd-169107b90991"
      },
      "execution_count": 84,
      "outputs": [
        {
          "output_type": "display_data",
          "data": {
            "text/plain": [
              "<Figure size 800x500 with 1 Axes>"
            ],
            "image/png": "[encoded data removed]"
          },
          "metadata": {}
        }
      ]
    },
    {
      "cell_type": "code",
      "source": [
        "kmeans = KMeans(n_clusters=4, random_state=42)\n",
        "df_DR['Cluster'] = kmeans.fit_predict(df_norm)"
      ],
      "metadata": {
        "id": "sGf3gR5udjoO"
      },
      "execution_count": 85,
      "outputs": []
    },
    {
      "cell_type": "code",
      "source": [
        "#Step 3.1:  Train Random Forest Classifier and Cosine Similarity (Content Based) to predict clusters\n",
        "X = df_norm\n",
        "y = df_DR['Cluster']\n",
        "\n",
        "# Split data into training and test sets\n",
        "X_train, X_test, y_train, y_test = train_test_split(X, y, test_size=0.3, random_state=42)\n",
        "\n",
        "# Initialize and fit the Random Forest classifier on the training data\n",
        "rf_classifier = RandomForestClassifier(n_estimators=50, random_state=42)\n",
        "rf_classifier.fit(X_train, y_train)\n",
        "\n",
        "# Make predictions on the test data to calculate accuracy\n",
        "y_pred = rf_classifier.predict(X_test)\n",
        "classification_accuracy = accuracy_score(y_test, y_pred)\n",
        "print(f\"Classification accuracy: {classification_accuracy}\")\n"
      ],
      "metadata": {
        "colab": {
          "base_uri": "https://localhost:8080/"
        },
        "id": "qEhmAgdT1ygb",
        "outputId": "0c63f170-9bcb-49eb-f6e5-1be65b02a72f"
      },
      "execution_count": 20,
      "outputs": [
        {
          "output_type": "stream",
          "name": "stdout",
          "text": [
            "Classification accuracy: 0.9740015300360652\n"
          ]
        }
      ]
    },
    {
      "cell_type": "code",
      "source": [
        "#Step 3.2:  Train Random Forest Classifier and Cosine Similarity (Content Based) to predict clusters\n",
        "from sklearn.tree import DecisionTreeClassifier\n",
        "\n",
        "dt_classifier = DecisionTreeClassifier(random_state=42)\n",
        "dt_classifier.fit(X_train, y_train)\n",
        "dt_predictions = dt_classifier.predict(X_test)\n",
        "dt_accuracy = accuracy_score(y_test, dt_predictions)\n",
        "print(f\"Decision Tree Accuracy: {dt_accuracy}\")\n",
        "\n",
        "\n",
        "# Cosine Similarity for cluster prediction (content-based filtering)\n",
        "def predict_cluster_cosine(recipe_features):\n",
        "    # Calculate cosine similarity between the input recipe and all recipes in the training set\n",
        "    # recipe_features was wrapped in extra brackets:  [recipe_features]\n",
        "    # removing the extra brackets fixes the ValueError: Found array with dim 3. check_pairwise_arrays expected <= 2\n",
        "    similarities = cosine_similarity(recipe_features, X_train)\n",
        "\n",
        "    # Find the index of the most similar recipe in the training set\n",
        "    most_similar_index = np.argmax(similarities)\n",
        "\n",
        "    # Predict the cluster based on the cluster of the most similar recipe\n",
        "    predicted_cluster = y_train.iloc[most_similar_index]\n",
        "\n",
        "    return predicted_cluster"
      ],
      "metadata": {
        "colab": {
          "base_uri": "https://localhost:8080/"
        },
        "id": "eNoZkmYWC1g6",
        "outputId": "e63f5d05-3f51-4887-adf4-8a9f7f1c3c96"
      },
      "execution_count": 23,
      "outputs": [
        {
          "output_type": "stream",
          "name": "stdout",
          "text": [
            "Decision Tree Accuracy: 0.944335830773154\n"
          ]
        }
      ]
    },
    {
      "cell_type": "code",
      "source": [
        "#Step 3.1:  Train XGBoost Classifier and Cosine Similarity (Content Based) to predict clusters\n",
        "# XGBoost for cluster prediction\n",
        "import xgboost as xgb\n",
        "\n",
        "# Initialize and train the XGBoost classifier\n",
        "xgb_classifier = xgb.XGBClassifier(objective='multi:softmax', num_class=4, random_state=42)\n",
        "xgb_classifier.fit(X_train, y_train)\n",
        "\n",
        "# Make predictions and evaluate accuracy\n",
        "xgb_predictions = xgb_classifier.predict(X_test)\n",
        "xgb_accuracy = accuracy_score(y_test, xgb_predictions)\n",
        "print(f\"XGBoost Accuracy: {xgb_accuracy}\")\n",
        "\n",
        "\n",
        "def predict_cluster_xgboost(recipe_features):\n",
        "    predicted_cluster = xgb_classifier.predict(recipe_features)\n",
        "    return predicted_cluster[0] #return first element of the prediction array"
      ],
      "metadata": {
        "colab": {
          "base_uri": "https://localhost:8080/"
        },
        "id": "Ssif6LjJDkip",
        "outputId": "84eef7d2-2ad6-462f-cc95-2cc2fd37173d"
      },
      "execution_count": 86,
      "outputs": [
        {
          "output_type": "stream",
          "name": "stdout",
          "text": [
            "XGBoost Accuracy: 0.9867518305788636\n"
          ]
        }
      ]
    },
    {
      "cell_type": "code",
      "source": [
        "# Remove unnecessary attributes to reduce model size\n",
        "rf_classifier.oob_score_ = None\n",
        "rf_classifier.estimators_ = rf_classifier.estimators_[:10]"
      ],
      "metadata": {
        "id": "evgmmEbjsbzT"
      },
      "execution_count": 25,
      "outputs": []
    },
    {
      "cell_type": "code",
      "source": [
        "#Step 4: Recommend food with cosine\n",
        "def recommend_food(input_data, gender, weight, height, age, health_condition=None, wellness_goal=None):\n",
        "    # Define weights based on the nutrient features\n",
        "    weights = np.ones(len(nutrient_features))\n",
        "\n",
        "    # Modify weights based on health condition\n",
        "    health_conditions = [\"Diabetic\", \"High Blood Pressure\", \"High Cholesterol\"]\n",
        "    if health_condition in health_conditions:\n",
        "        if 'SugarContent' in nutrient_features and health_condition == \"Diabetic\":\n",
        "            weights[nutrient_features.index('SugarContent')] = 0.5\n",
        "        if 'SodiumContent' in nutrient_features and health_condition == \"High Blood Pressure\":\n",
        "            weights[nutrient_features.index('SodiumContent')] = 0.5\n",
        "        if 'CholesterolContent' in nutrient_features and health_condition == \"High Cholesterol\":\n",
        "            weights[nutrient_features.index('CholesterolContent')] = 0.5\n",
        "        # If any health condition is present, ignore wellness goal adjustments\n",
        "        wellness_goal = None\n",
        "\n",
        "    # Modify weights based on wellness goal if no health condition applies\n",
        "    if wellness_goal is not None:\n",
        "        if wellness_goal == \"Lose Fat\":\n",
        "            if 'FatContent' in nutrient_features:\n",
        "                weights[nutrient_features.index('FatContent')] = 0.5\n",
        "            if 'Calories' in nutrient_features:\n",
        "                weights[nutrient_features.index('Calories')] = 0.5\n",
        "        elif wellness_goal == \"Gain Muscle\":\n",
        "            if 'ProteinContent' in nutrient_features:\n",
        "                weights[nutrient_features.index('ProteinContent')] = 0.5\n",
        "\n",
        "    # Apply weights to input data\n",
        "    weighted_input = input_data * weights\n",
        "\n",
        "    # Predict the cluster using the Random Forest classifier\n",
        "    predicted_cluster = rf_classifier.predict([weighted_input])[0]\n",
        "\n",
        "    # Filter the dataset for the predicted cluster\n",
        "    cluster_data = df_DR[df_DR['Cluster'] == predicted_cluster][nutrient_features]\n",
        "\n",
        "    # Normalize the input and cluster data\n",
        "    norm_input = scaler.transform([weighted_input])\n",
        "    norm_cluster_data = scaler.transform(cluster_data)\n",
        "\n",
        "    # Calculate cosine similarity between input and items in the predicted cluster\n",
        "    similarities = cosine_similarity(norm_input, norm_cluster_data).flatten()\n",
        "    cluster_data['Similarity'] = similarities\n",
        "\n",
        "    # Get the top N recommendations based on cosine similarity\n",
        "    top_recommendations = cluster_data.sort_values(by=\"Similarity\", ascending=False).head(10)\n",
        "    recommended_food_names = df.loc[top_recommendations.index, 'Name']\n",
        "\n",
        "    return recommended_food_names"
      ],
      "metadata": {
        "id": "jN3EVbmt8qBk"
      },
      "execution_count": 87,
      "outputs": []
    },
    {
      "cell_type": "code",
      "source": [
        "# Save the models as .pkl files\n",
        "with open('scaler.pkl', 'wb') as f:\n",
        "    pickle.dump(scaler, f)\n",
        "\n",
        "with open('kmeans.pkl', 'wb') as f:\n",
        "    pickle.dump(kmeans, f)\n",
        "\n",
        "with open('rf_classifier.pkl', 'wb') as f:\n",
        "    pickle.dump(kmeans, f)\n",
        "\n",
        "with open('xgb_classifier.pkl', 'wb') as f:\n",
        "    pickle.dump(kmeans, f)"
      ],
      "metadata": {
        "id": "zs92okl08xIk"
      },
      "execution_count": 88,
      "outputs": []
    },
    {
      "cell_type": "code",
      "source": [
        "df_DR.to_csv('df_DR.csv', index=False)"
      ],
      "metadata": {
        "id": "U9NRXDR8kgNb"
      },
      "execution_count": 89,
      "outputs": []
    },
    {
      "cell_type": "markdown",
      "source": [
        "# Testing the Food Recommendation Function"
      ],
      "metadata": {
        "id": "ILPCKLZ99m9i"
      }
    },
    {
      "cell_type": "code",
      "source": [
        "# Step 1: Calculate Calorie Need Function\n",
        "def calculate_caloric_needs(gender, weight, height, age):\n",
        "    if gender == \"Female\":\n",
        "        return 655 + (9.6 * weight) + (1.8 * height) - (4.7 * age)\n",
        "    elif gender == \"Male\":\n",
        "        return 66 + (13.7 * weight) + (5 * height) - (6.8 * age)\n",
        "    else:\n",
        "        raise ValueError(\"Gender not recognized. Use 'Male' or 'Female'.\")"
      ],
      "metadata": {
        "id": "ueBqr4_r-0HJ"
      },
      "execution_count": 90,
      "outputs": []
    },
    {
      "cell_type": "code",
      "source": [
        "# Step 2: Define Nutrient Requirement based on Health Condition\n",
        "def define_nutrient_intake(Calories, health_condition, weight):\n",
        "    nutrient_requirements = {\n",
        "        'Calories': Calories,\n",
        "        'Protein': 0,\n",
        "        'Fats': 0,\n",
        "        'Carbohydrates': 0,\n",
        "        'Sodium': 2000,\n",
        "        'Cholesterol': 200,\n",
        "        'SaturatedFats': 0,\n",
        "        'SugarContent': 0,\n",
        "        'FibreContent': 0\n",
        "    }\n",
        "\n",
        "    if health_condition == \"Diabetic\":\n",
        "        nutrient_requirements['Protein'] = 0.8 * weight  # g/kg for protein\n",
        "        nutrient_requirements['Fats'] = 0.25 * Calories  # x Daily Calorie Intake for fats\n",
        "        nutrient_requirements['Carbohydrates'] = 0.6 * Calories  # x Daily Calorie Intake for carbs\n",
        "        nutrient_requirements['Sodium'] = 2000  # mg\n",
        "    elif health_condition == \"High Blood Pressure\":\n",
        "        nutrient_requirements['Protein'] = 0.5 * Calories / 4  # 0.5x Daily Calorie Intake for protein\n",
        "        nutrient_requirements['Fats'] = 0.25 * Calories / 9  # 0.25x Daily Calorie Intake for Fats\n",
        "        nutrient_requirements['Carbohydrates'] = 0.6 * Calories / 4  # 0.6x Daily Calorie Intake for Carbs\n",
        "        nutrient_requirements['Sodium'] = 1000  # mg\n",
        "        nutrient_requirements['Cholesterol'] = 300  # mg\n",
        "    elif health_condition == \"High Cholesterol\":\n",
        "        nutrient_requirements['Protein'] = 0.5 * Calories / 4  # Recommended protein intake\n",
        "        nutrient_requirements['Fats'] = Calories * 0.15 / 9  # Minimum fat intake\n",
        "        nutrient_requirements['SaturatedFats'] = Calories * 0.10 / 9  # Max saturated fat\n",
        "        # No specific recommendations for Sodium and Cholesterol here\n",
        "    else:\n",
        "        print(\"Health condition not recognized. Using default nutrient requirements.\")\n",
        "\n",
        "    return nutrient_requirements\n"
      ],
      "metadata": {
        "id": "9qA3Uuo6-uS6"
      },
      "execution_count": 91,
      "outputs": []
    },
    {
      "cell_type": "code",
      "source": [
        "# Step 3: Input Data Calculation Function\n",
        "def calculate_nutrient_intake(gender, weight, height, age, health_condition):\n",
        "    # Calculate daily calories based on user details\n",
        "    daily_calories = calculate_caloric_needs(gender, weight, height, age)\n",
        "\n",
        "    # Calculate nutrient intake based on health conditions\n",
        "    nutrient_requirements = define_nutrient_intake(daily_calories, health_condition, weight)\n",
        "\n",
        "    # Prepare input data for recommendations\n",
        "    input_data = np.array([\n",
        "        nutrient_requirements['Calories'],\n",
        "        nutrient_requirements['Protein'],\n",
        "        nutrient_requirements['Fats'],\n",
        "        nutrient_requirements['Carbohydrates'],\n",
        "        nutrient_requirements['Sodium'],\n",
        "        nutrient_requirements['Cholesterol'],\n",
        "        nutrient_requirements['SaturatedFats'],\n",
        "        nutrient_requirements['SugarContent'],\n",
        "        nutrient_requirements['FibreContent']\n",
        "    ])\n",
        "\n",
        "    return input_data"
      ],
      "metadata": {
        "id": "tElk3Tfs-6Hj"
      },
      "execution_count": 92,
      "outputs": []
    },
    {
      "cell_type": "code",
      "source": [
        "# Load the trained models from .pkl files\n",
        "with open('scaler.pkl', 'rb') as f:\n",
        "    scaler = pickle.load(f)\n",
        "\n",
        "with open('xgb_classifier.pkl', 'rb') as f:\n",
        "    xgb_classifier = pickle.load(f)\n",
        "\n",
        "# Nutrient features defined\n",
        "nutrient_features = ['Calories', 'ProteinContent', 'FatContent', 'CarbohydrateContent', 'SodiumContent', 'CholesterolContent', 'SaturatedFatContent', \"FiberContent\", \"SugarContent\"]\n",
        "\n",
        "# Recommend food with cosine similarity\n",
        "def recommend_food(input_data, health_condition=None):\n",
        "    # Define weights based on the nutrient features\n",
        "    weights = np.ones(len(nutrient_features))\n",
        "    # Ensure column names are stripped of whitespace\n",
        "    df_DR.columns = df_DR.columns.str.strip()\n",
        "\n",
        "    # Modify weights based on health condition\n",
        "    health_conditions = [\"Diabetic\", \"High Blood Pressure\", \"High Cholesterol\"]\n",
        "    if health_condition in health_conditions:\n",
        "        if 'SugarContent' in nutrient_features and health_condition == \"Diabetic\":\n",
        "            weights[nutrient_features.index('SugarContent')] = 0.05\n",
        "        if 'SodiumContent' in nutrient_features and health_condition == \"High Blood Pressure\":\n",
        "            weights[nutrient_features.index('SodiumContent')] = 0.05\n",
        "        if 'CholesterolContent' in nutrient_features and health_condition == \"High Cholesterol\":\n",
        "            weights[nutrient_features.index('CholesterolContent')] = 0.05\n",
        "        wellness_goal = None  # Ignore wellness goal adjustments if health condition is present\n",
        "\n",
        "    # Apply weights to input data\n",
        "    weighted_input = input_data * weights\n",
        "\n",
        "    # Predict the cluster using the xgb_classifier classifier\n",
        "    predicted_cluster = xgb_classifier.predict([weighted_input])[0]\n",
        "\n",
        "    # Convert weighted_input to DataFrame for prediction\n",
        "    input_df = pd.DataFrame([weighted_input], columns=nutrient_features)\n",
        "\n",
        "    cluster_data = df_DR[df_DR['Cluster'] == predicted_cluster][nutrient_features]\n",
        "\n",
        "    # Exclude desserts if the health condition is diabetic\n",
        "    if health_condition == \"Diabetic\":\n",
        "        cluster_data = cluster_data[df_DR['RecipeCategory'] != 'Dessert']\n",
        "\n",
        "    # Meal categories to recommend from\n",
        "    meal_categories = ['Breakfast', 'Brunch', 'Lunch/Snacks', 'Dinner', 'Dessert']\n",
        "    recommendations = {}\n",
        "\n",
        "    # Normalize the input and cluster data\n",
        "    norm_input = scaler.transform([weighted_input])\n",
        "    norm_cluster_data = scaler.transform(cluster_data)\n",
        "\n",
        "    for category in meal_categories:\n",
        "        # Filter the cluster data for the specific meal category\n",
        "        meal_data = df_DR[df_DR['RecipeCategory'] == category]\n",
        "\n",
        "        # Check if there are available items for the meal category\n",
        "        if not meal_data.empty:\n",
        "            # Normalize the input for this category\n",
        "            norm_input = scaler.transform(input_df)\n",
        "\n",
        "\n",
        "    # Calculate cosine similarity between input and items in the predicted cluster\n",
        "    similarities = cosine_similarity(norm_input, norm_cluster_data).flatten()\n",
        "    cluster_data['Similarity'] = similarities\n",
        "\n",
        "    # Get the top N recommendations based on cosine similarity\n",
        "    top_recommendations = cluster_data.sort_values(by=\"Similarity\", ascending=False).head(10)\n",
        "    # Get recommended food names and their ingredients\n",
        "    recommended_food_names = df.loc[top_recommendations.index, 'Name']\n",
        "    recommended_Categories = df_DR.loc[top_recommendations.index, 'RecipeCategory']\n",
        "\n",
        "    # Create a list of tuples with food names and ingredients\n",
        "    recommendations = list(zip(recommended_food_names, recommended_Categories))\n",
        "\n",
        "    return recommendations"
      ],
      "metadata": {
        "id": "c0i_ElLVBriN"
      },
      "execution_count": 93,
      "outputs": []
    },
    {
      "cell_type": "code",
      "source": [
        "# User Inputs\n",
        "gender = \"Female\"  # User input for gender\n",
        "weight = 60  # kg\n",
        "height = 172  # cm\n",
        "age = 30  # years\n",
        "health_condition = \"High Blood Pressure\"\n",
        "\n",
        "# Calculate input data based on user details\n",
        "input_data = calculate_nutrient_intake(gender, weight, height, age, health_condition)\n",
        "\n",
        "# Get food recommendations\n",
        "recommendations = recommend_food(input_data, health_condition)\n",
        "\n",
        "# Print recommended food items along with their RecipeCategory\n",
        "for food, category in recommendations:\n",
        "    print(f\"Recommended food item: {food}\\nRecipe Category: {category}\\n\")"
      ],
      "metadata": {
        "colab": {
          "base_uri": "https://localhost:8080/"
        },
        "id": "UqQdTbGq8qzT",
        "outputId": "5b9d09ac-36aa-4a38-caec-f6e1aed70ba3"
      },
      "execution_count": 94,
      "outputs": [
        {
          "output_type": "stream",
          "name": "stderr",
          "text": [
            "/usr/local/lib/python3.10/dist-packages/sklearn/base.py:493: UserWarning: X does not have valid feature names, but KMeans was fitted with feature names\n",
            "  warnings.warn(\n",
            "/usr/local/lib/python3.10/dist-packages/sklearn/base.py:493: UserWarning: X does not have valid feature names, but StandardScaler was fitted with feature names\n",
            "  warnings.warn(\n"
          ]
        },
        {
          "output_type": "stream",
          "name": "stdout",
          "text": [
            "Recommended food item: Easy Goulash\n",
            "Recipe Category: Lunch/Snacks\n",
            "\n",
            "Recommended food item: Chicken Soup With Rice\n",
            "Recipe Category: Lunch/Snacks\n",
            "\n",
            "Recommended food item: Ritzy's Mushroom Chicken Noodle Soup\n",
            "Recipe Category: Lunch/Snacks\n",
            "\n",
            "Recommended food item: Italian Chicken Sandwich\n",
            "Recipe Category: Lunch/Snacks\n",
            "\n",
            "Recommended food item: Roasted Chicken Pasta Salad\n",
            "Recipe Category: Dinner\n",
            "\n",
            "Recommended food item: Zaney's Simple Garlickly Baked Chicken\n",
            "Recipe Category: Lunch/Snacks\n",
            "\n",
            "Recommended food item: Hamburgers Deluxe\n",
            "Recipe Category: Lunch/Snacks\n",
            "\n",
            "Recommended food item: Chicken Alfredo and Rice Casserole\n",
            "Recipe Category: Dinner\n",
            "\n",
            "Recommended food item: Beef &amp; Pasta\n",
            "Recipe Category: Lunch/Snacks\n",
            "\n",
            "Recommended food item: Meatball &amp; Rice Soup\n",
            "Recipe Category: Dinner\n",
            "\n"
          ]
        }
      ]
    },
    {
      "cell_type": "code",
      "source": [
        "# Data Ingestion: mount google drive and create a df from a csv file\n",
        "#from google.colab import drive\n",
        "#drive.mount('/content/drive')\n",
        "\n",
        "#df_1 = pd.read_csv('/content/drive/My Drive/df_MHMF.csv')"
      ],
      "metadata": {
        "id": "z4G7RnSMW7df"
      },
      "execution_count": 34,
      "outputs": []
    },
    {
      "cell_type": "code",
      "source": [
        "# Data Ingestion: mount google drive and create a df from a csv file\n",
        "from google.colab import drive\n",
        "drive.mount('/content/drive')\n",
        "\n",
        "df_1 = pd.read_csv('/content/drive/My Drive/df_MFMH.csv')"
      ],
      "metadata": {
        "colab": {
          "base_uri": "https://localhost:8080/"
        },
        "id": "PB2Ag5AM6BDS",
        "outputId": "12d512ac-2ce7-41f0-b0bf-f59b757e9c26"
      },
      "execution_count": 95,
      "outputs": [
        {
          "output_type": "stream",
          "name": "stdout",
          "text": [
            "Drive already mounted at /content/drive; to attempt to forcibly remount, call drive.mount(\"/content/drive\", force_remount=True).\n"
          ]
        }
      ]
    },
    {
      "cell_type": "code",
      "source": [
        "from google.colab import files\n",
        "\n",
        "# Keep 18.5% of the DataFrame\n",
        "df_sample = df_DR.sample(frac=0.10, random_state=42)"
      ],
      "metadata": {
        "id": "rkEZHBwj6th5"
      },
      "execution_count": 104,
      "outputs": []
    },
    {
      "cell_type": "code",
      "source": [
        "# Replace these characters in the \"Name\" column\n",
        "df_sample['Name'] = df_sample['Name'].str.replace('&', '', regex=False)\n",
        "df_sample['Name'] = df_sample['Name'].str.replace('quot', '', regex=False)\n",
        "df_sample['Name'] = df_sample['Name'].str.replace(';', '', regex=False)"
      ],
      "metadata": {
        "id": "FIyFoB4m2Egt"
      },
      "execution_count": 105,
      "outputs": []
    },
    {
      "cell_type": "code",
      "source": [
        "# Remove rows containing \"beer\" or \"drink\" in the 'Name' column\n",
        "df_sample = df_sample[~df_sample['Name'].str.contains('Beer', case=False, na=False)]"
      ],
      "metadata": {
        "id": "EVN7Ksnq7l8z"
      },
      "execution_count": 106,
      "outputs": []
    },
    {
      "cell_type": "code",
      "source": [
        "# Download the sample DataFrame as a CSV file\n",
        "df_sample.to_csv('df_sample.csv', index=False)\n",
        "files.download('df_sample.csv')"
      ],
      "metadata": {
        "colab": {
          "base_uri": "https://localhost:8080/",
          "height": 17
        },
        "id": "W2Wr3ltH2Rhc",
        "outputId": "28c4de2b-9f16-4b12-d2a3-0a84cd05999d"
      },
      "execution_count": 107,
      "outputs": [
        {
          "output_type": "display_data",
          "data": {
            "text/plain": [
              "<IPython.core.display.Javascript object>"
            ],
            "application/javascript": [
              "\n",
              "    async function download(id, filename, size) {\n",
              "      if (!google.colab.kernel.accessAllowed) {\n",
              "        return;\n",
              "      }\n",
              "      const div = document.createElement('div');\n",
              "      const label = document.createElement('label');\n",
              "      label.textContent = `Downloading \"${filename}\": `;\n",
              "      div.appendChild(label);\n",
              "      const progress = document.createElement('progress');\n",
              "      progress.max = size;\n",
              "      div.appendChild(progress);\n",
              "      document.body.appendChild(div);\n",
              "\n",
              "      const buffers = [];\n",
              "      let downloaded = 0;\n",
              "\n",
              "      const channel = await google.colab.kernel.comms.open(id);\n",
              "      // Send a message to notify the kernel that we're ready.\n",
              "      channel.send({})\n",
              "\n",
              "      for await (const message of channel.messages) {\n",
              "        // Send a message to notify the kernel that we're ready.\n",
              "        channel.send({})\n",
              "        if (message.buffers) {\n",
              "          for (const buffer of message.buffers) {\n",
              "            buffers.push(buffer);\n",
              "            downloaded += buffer.byteLength;\n",
              "            progress.value = downloaded;\n",
              "          }\n",
              "        }\n",
              "      }\n",
              "      const blob = new Blob(buffers, {type: 'application/binary'});\n",
              "      const a = document.createElement('a');\n",
              "      a.href = window.URL.createObjectURL(blob);\n",
              "      a.download = filename;\n",
              "      div.appendChild(a);\n",
              "      a.click();\n",
              "      div.remove();\n",
              "    }\n",
              "  "
            ]
          },
          "metadata": {}
        },
        {
          "output_type": "display_data",
          "data": {
            "text/plain": [
              "<IPython.core.display.Javascript object>"
            ],
            "application/javascript": [
              "download(\"download_024768ee-4849-4c6e-856a-bca474cdc0a4\", \"df_sample.csv\", 25686734)"
            ]
          },
          "metadata": {}
        }
      ]
    }
  ]
}